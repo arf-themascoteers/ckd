{
 "cells": [
  {
   "cell_type": "code",
   "execution_count": 1,
   "outputs": [
    {
     "name": "stdout",
     "output_type": "stream",
     "text": [
      "152\n",
      "0\n",
      "201\n",
      "47\n",
      "---\n",
      "320\n",
      "80\n"
     ]
    }
   ],
   "source": [
    "from torch.utils.data import Dataset\n",
    "import pandas as pd\n",
    "from sklearn import preprocessing\n",
    "from pandas.api.types import is_string_dtype, is_numeric_dtype\n",
    "import math\n",
    "import random\n",
    "import torch\n",
    "\n",
    "csv_data = pd.read_csv(\"kidney_disease.csv\")\n",
    "df = pd.DataFrame(csv_data)\n",
    "col = \"rbc\"\n",
    "print(df[col].isna().sum())\n",
    "dist = []\n",
    "for cell in df[col]:\n",
    "    if cell == cell:\n",
    "        dist.append(cell)\n",
    "uniques = df[col].unique()\n",
    "for unique in uniques:\n",
    "    print(len(df[df[col] == unique]))\n",
    "for i in range(len(df[col])):\n",
    "    cell = df[col][i]\n",
    "    if cell != cell:\n",
    "        index = random.randint(0,len(dist))\n",
    "        df.at[i, col] = dist[index]\n",
    "\n",
    "\n",
    "uniques = df[col].unique()\n",
    "print(\"---\")\n",
    "for unique in uniques:\n",
    "    print(len(df[df[col] == unique]))"
   ],
   "metadata": {
    "collapsed": false,
    "pycharm": {
     "name": "#%%\n"
    }
   }
  }
 ],
 "metadata": {
  "kernelspec": {
   "display_name": "Python 3",
   "language": "python",
   "name": "python3"
  },
  "language_info": {
   "codemirror_mode": {
    "name": "ipython",
    "version": 2
   },
   "file_extension": ".py",
   "mimetype": "text/x-python",
   "name": "python",
   "nbconvert_exporter": "python",
   "pygments_lexer": "ipython2",
   "version": "2.7.6"
  }
 },
 "nbformat": 4,
 "nbformat_minor": 0
}