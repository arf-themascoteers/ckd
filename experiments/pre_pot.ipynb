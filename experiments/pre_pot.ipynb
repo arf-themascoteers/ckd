{
 "cells": [
  {
   "cell_type": "code",
   "execution_count": 5,
   "outputs": [
    {
     "name": "stdout",
     "output_type": "stream",
     "text": [
      "hi\n"
     ]
    }
   ],
   "source": [
    "print(\"hi\")"
   ],
   "metadata": {
    "collapsed": false,
    "pycharm": {
     "name": "#%%\n"
    }
   }
  },
  {
   "cell_type": "code",
   "execution_count": 6,
   "metadata": {
    "collapsed": true,
    "pycharm": {
     "name": "#%%\n"
    }
   },
   "outputs": [
    {
     "name": "stdout",
     "output_type": "stream",
     "text": [
      "['yes' 'no' nan]\n",
      "['yes' 'no' nan]\n",
      "[147, 251, 0]\n"
     ]
    }
   ],
   "source": [
    "import pandas as pd\n",
    "from sklearn import preprocessing\n",
    "from pandas.api.types import is_string_dtype, is_numeric_dtype\n",
    "\n",
    "file_location = \"kidney_disease.csv\"\n",
    "csv_data = pd.read_csv(file_location)\n",
    "df = pd.DataFrame(csv_data)\n",
    "print(df[\"htn\"].unique())\n",
    "\n",
    "uniques = df[\"htn\"].unique()\n",
    "count_nans = df[\"htn\"].isna().sum()\n",
    "counts = []\n",
    "for i in range(len(uniques)):\n",
    "    val = uniques[i]\n",
    "    counts.append(len(df[df[\"htn\"] == val]))\n",
    "\n",
    "print(uniques)\n",
    "print(counts)"
   ]
  },
  {
   "cell_type": "markdown",
   "source": [
    "No NaN - surely use this column"
   ],
   "metadata": {
    "collapsed": false
   }
  }
 ],
 "metadata": {
  "kernelspec": {
   "display_name": "Python 3",
   "language": "python",
   "name": "python3"
  },
  "language_info": {
   "codemirror_mode": {
    "name": "ipython",
    "version": 2
   },
   "file_extension": ".py",
   "mimetype": "text/x-python",
   "name": "python",
   "nbconvert_exporter": "python",
   "pygments_lexer": "ipython2",
   "version": "2.7.6"
  }
 },
 "nbformat": 4,
 "nbformat_minor": 0
}