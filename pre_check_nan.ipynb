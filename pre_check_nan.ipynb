{
 "cells": [
  {
   "cell_type": "code",
   "execution_count": 3,
   "metadata": {
    "collapsed": true,
    "pycharm": {
     "name": "#%%\n"
    }
   },
   "outputs": [
    {
     "name": "stdout",
     "output_type": "stream",
     "text": [
      "id 0\n",
      "age 9\n",
      "bp 12\n",
      "sg 47\n",
      "al 46\n",
      "su 49\n",
      "rbc 152\n",
      "pc 65\n",
      "pcc 4\n",
      "ba 4\n",
      "bgr 44\n",
      "bu 19\n",
      "sc 17\n",
      "sod 87\n",
      "pot 88\n",
      "hemo 52\n",
      "pcv 70\n",
      "wc 105\n",
      "rc 130\n",
      "htn 2\n",
      "dm 2\n",
      "cad 2\n",
      "appet 1\n",
      "pe 1\n",
      "ane 1\n",
      "classification 0\n"
     ]
    }
   ],
   "source": [
    "import pandas as pd\n",
    "from sklearn import preprocessing\n",
    "from pandas.api.types import is_string_dtype, is_numeric_dtype\n",
    "\n",
    "file_location = \"kidney_disease.csv\"\n",
    "csv_data = pd.read_csv(file_location)\n",
    "df = pd.DataFrame(csv_data)\n",
    "for col in df.columns:\n",
    "    print(col, df[col].isna().sum())"
   ]
  },
  {
   "cell_type": "code",
   "execution_count": null,
   "outputs": [],
   "source": [
    "\n",
    "uniques = df[\"htn\"].unique()\n",
    "count_nans = df[\"htn\"].isna().sum()\n",
    "counts = []\n",
    "for i in range(len(uniques)):\n",
    "    val = uniques[i]\n",
    "    counts.append(len(df[df[\"htn\"] == val]))\n",
    "\n",
    "print(uniques)\n",
    "print(counts)"
   ],
   "metadata": {
    "collapsed": false,
    "pycharm": {
     "name": "#%%\n"
    }
   }
  },
  {
   "cell_type": "markdown",
   "source": [
    "No NaN - surely use this column"
   ],
   "metadata": {
    "collapsed": false
   }
  }
 ],
 "metadata": {
  "kernelspec": {
   "display_name": "Python 3",
   "language": "python",
   "name": "python3"
  },
  "language_info": {
   "codemirror_mode": {
    "name": "ipython",
    "version": 2
   },
   "file_extension": ".py",
   "mimetype": "text/x-python",
   "name": "python",
   "nbconvert_exporter": "python",
   "pygments_lexer": "ipython2",
   "version": "2.7.6"
  }
 },
 "nbformat": 4,
 "nbformat_minor": 0
}